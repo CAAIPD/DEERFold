{
 "cells": [
  {
   "cell_type": "markdown",
   "metadata": {},
   "source": [
    "# DEERFold Examples\n",
    "\n",
    "In this notebook we will overview how to approach the following topics: \n",
    "\n",
    "* Installation\n",
    "* Unconstrained prediction \n",
    "* Constrained prediction "
   ]
  },
  {
   "cell_type": "markdown",
   "metadata": {},
   "source": [
    "## Installation\n",
    "1. Install Mamba"
   ]
  },
  {
   "cell_type": "code",
   "execution_count": null,
   "metadata": {},
   "outputs": [],
   "source": [
    "wget \"https://github.com/conda-forge/miniforge/releases/latest/download/Mambaforge-$(uname)-$(uname -m).sh\"\n",
    "bash Mambaforge-$(uname)-$(uname -m).sh  # accept all terms and install to the default location\n",
    "rm Mambaforge-$(uname)-$(uname -m).sh  # (optionally) remove installer after using it\n",
    "source ~/.bashrc  # alternatively, one can restart their shell session to achieve the same result"
   ]
  },
  {
   "cell_type": "markdown",
   "metadata": {},
   "source": [
    "2. Clone the package"
   ]
  },
  {
   "cell_type": "code",
   "execution_count": null,
   "metadata": {},
   "outputs": [],
   "source": [
    "git clone https://github.com/CAAIPD/DEERFold.git\n",
    "cd DEERFold"
   ]
  },
  {
   "cell_type": "markdown",
   "metadata": {},
   "source": [
    "3. Create Mamba environment"
   ]
  },
  {
   "cell_type": "code",
   "execution_count": null,
   "metadata": {},
   "outputs": [],
   "source": [
    "mamba env create --file deerfold_environment.yml -p ./env/deerfold_venv\n",
    "conda activate env/deerfold_venv\n",
    "\n",
    "# Install pytorch\n",
    "pip install torch==1.12.1+cu113 torchvision==0.13.1+cu113 torchaudio==0.12.1 --extra-index-url https://download.pytorch.org/whl/cu113"
   ]
  },
  {
   "cell_type": "markdown",
   "metadata": {},
   "source": [
    "4. Install MDAnalysis and chiLife"
   ]
  },
  {
   "cell_type": "code",
   "execution_count": null,
   "metadata": {},
   "outputs": [],
   "source": [
    "# Install MDAnalysis\n",
    "pip install setuptools==60.3.0\n",
    "pip install gsd==2.4.2\n",
    "pip install mdanalysis==2.0.0\n",
    "\n",
    "# Install chiLife\n",
    "git clone https://github.com/StollLab/chiLife.git\n",
    "cd chiLife\n",
    "\n",
    "# Modify dependencies in pyproject.toml\n",
    "dependencies = ['numpy>=1.21.5',\n",
    "                'scipy>=1.6.3',\n",
    "                'matplotlib>=3.3.4',\n",
    "                'numba>=0.56.4',\n",
    "                'mdanalysis>=2.0.0',\n",
    "                'tqdm>=4.45.0',\n",
    "                'pytest>=6.2.2',\n",
    "                'memoization>=0.3.1',\n",
    "                'argparse>=1.4.0',\n",
    "                'igraph>=0.10.8',\n",
    "                'rtoml>=0.9.0']\n",
    "\n",
    "pip install -e ."
   ]
  },
  {
   "cell_type": "markdown",
   "metadata": {},
   "source": [
    "5. Install [TMscore](https://zhanggroup.org/TM-score/) for results analysis (Optional)"
   ]
  },
  {
   "cell_type": "code",
   "execution_count": null,
   "metadata": {},
   "outputs": [],
   "source": [
    "cd DEERFold\n",
    "wget https://zhanggroup.org/TM-score/TMscoreLinux.zip\n",
    "unzip TMscoreLinux.zip"
   ]
  },
  {
   "cell_type": "markdown",
   "metadata": {},
   "source": [
    "## Unconstrained prediction\n",
    "\n",
    "For comparison DEERFold can accept empty csv file to genreate unconstrained models. \n",
    "\n",
    "To unconditionally generate models from DEERFold, required parameters are as follows:\n",
    "- `fasta_file`: Input sequence file in FASTA format.\n",
    "- `msa_dir`: Directory containing multiple sequence alignments.\n",
    "- `out_dir`: Directory to save output models.\n",
    "- `model`: Directory storing all the model weights.\n",
    "- `neff`: MSA Neff value.\n",
    "- `num`: Number of models to generate."
   ]
  },
  {
   "cell_type": "code",
   "execution_count": 1,
   "metadata": {},
   "outputs": [
    {
     "name": "stdout",
     "output_type": "stream",
     "text": [
      "Current working directory changed to: /panfs/accrepfs.vampire/data/mchaourab/wut18/release/DEERFold\n"
     ]
    },
    {
     "name": "stderr",
     "output_type": "stream",
     "text": [
      "/panfs/accrepfs.vampire/data/mchaourab/wut18/release/DEERFold/env/deerfold_venv/lib/python3.9/site-packages/MDAnalysis/coordinates/chemfiles.py:108: DeprecationWarning: distutils Version classes are deprecated. Use packaging.version instead.\n",
      "  MIN_CHEMFILES_VERSION = LooseVersion(\"0.9\")\n",
      "WARNING:MDAnalysis.coordinates.AMBER:netCDF4 is not available. Writing AMBER ncdf files will be slow.\n"
     ]
    },
    {
     "name": "stdout",
     "output_type": "stream",
     "text": [
      "# of distance constraints: 0\n",
      "Empty CSV file created at: out/PfMATE/unconstrained/empty.csv\n"
     ]
    },
    {
     "name": "stderr",
     "output_type": "stream",
     "text": [
      "INFO:/panfs/accrepfs.vampire/data/mchaourab/wut18/release/DEERFold/deerfold_processor.py:Loaded OpenFold parameters at models/updated_DEERFold_helix.pt...\n",
      "INFO:/panfs/accrepfs.vampire/data/mchaourab/wut18/release/DEERFold/deerfold_processor.py:Using precomputed alignments for PfMATE_A at examples/alignments...\n",
      "INFO:/panfs/accrepfs.vampire/data/mchaourab/wut18/release/DEERFold/deerfold_processor.py:Subsampling MSA to Neff=5...\n",
      "INFO:/panfs/accrepfs.vampire/data/mchaourab/wut18/release/DEERFold/deerfold_processor.py:Running inference for PfMATE_A...\n",
      "INFO:/panfs/accrepfs.vampire/data/mchaourab/wut18/release/DEERFold/deerfold_processor.py:Inference time: 45.59681576304138\n",
      "INFO:/panfs/accrepfs.vampire/data/mchaourab/wut18/release/DEERFold/deerfold_processor.py:Output written to out/PfMATE/unconstrained/PfMATE_A/PfMATE_A_model_1_unrelaxed.pdb...\n",
      "INFO:/panfs/accrepfs.vampire/data/mchaourab/wut18/release/DEERFold/deerfold_processor.py:Model output written to out/PfMATE/unconstrained/PfMATE_A/PfMATE_A_model_1_output_dict.pkl...\n"
     ]
    },
    {
     "name": "stdout",
     "output_type": "stream",
     "text": [
      "out/PfMATE/unconstrained/PfMATE_A_model_1.pdb .......Complete\n"
     ]
    },
    {
     "name": "stderr",
     "output_type": "stream",
     "text": [
      "INFO:/panfs/accrepfs.vampire/data/mchaourab/wut18/release/DEERFold/deerfold_processor.py:Loaded OpenFold parameters at models/updated_DEERFold_helix.pt...\n",
      "INFO:/panfs/accrepfs.vampire/data/mchaourab/wut18/release/DEERFold/deerfold_processor.py:Using precomputed alignments for PfMATE_A at examples/alignments...\n",
      "INFO:/panfs/accrepfs.vampire/data/mchaourab/wut18/release/DEERFold/deerfold_processor.py:Subsampling MSA to Neff=5...\n",
      "INFO:/panfs/accrepfs.vampire/data/mchaourab/wut18/release/DEERFold/deerfold_processor.py:Running inference for PfMATE_A...\n",
      "INFO:/panfs/accrepfs.vampire/data/mchaourab/wut18/release/DEERFold/deerfold_processor.py:Inference time: 45.1753612998873\n",
      "INFO:/panfs/accrepfs.vampire/data/mchaourab/wut18/release/DEERFold/deerfold_processor.py:Output written to out/PfMATE/unconstrained/PfMATE_A/PfMATE_A_model_1_unrelaxed.pdb...\n",
      "INFO:/panfs/accrepfs.vampire/data/mchaourab/wut18/release/DEERFold/deerfold_processor.py:Model output written to out/PfMATE/unconstrained/PfMATE_A/PfMATE_A_model_1_output_dict.pkl...\n"
     ]
    },
    {
     "name": "stdout",
     "output_type": "stream",
     "text": [
      "out/PfMATE/unconstrained/PfMATE_A_model_2.pdb .......Complete\n"
     ]
    },
    {
     "name": "stderr",
     "output_type": "stream",
     "text": [
      "INFO:/panfs/accrepfs.vampire/data/mchaourab/wut18/release/DEERFold/deerfold_processor.py:Loaded OpenFold parameters at models/updated_DEERFold_helix.pt...\n",
      "INFO:/panfs/accrepfs.vampire/data/mchaourab/wut18/release/DEERFold/deerfold_processor.py:Using precomputed alignments for PfMATE_A at examples/alignments...\n",
      "INFO:/panfs/accrepfs.vampire/data/mchaourab/wut18/release/DEERFold/deerfold_processor.py:Subsampling MSA to Neff=5...\n",
      "INFO:/panfs/accrepfs.vampire/data/mchaourab/wut18/release/DEERFold/deerfold_processor.py:Running inference for PfMATE_A...\n",
      "INFO:/panfs/accrepfs.vampire/data/mchaourab/wut18/release/DEERFold/deerfold_processor.py:Inference time: 45.373526183888316\n",
      "INFO:/panfs/accrepfs.vampire/data/mchaourab/wut18/release/DEERFold/deerfold_processor.py:Output written to out/PfMATE/unconstrained/PfMATE_A/PfMATE_A_model_1_unrelaxed.pdb...\n",
      "INFO:/panfs/accrepfs.vampire/data/mchaourab/wut18/release/DEERFold/deerfold_processor.py:Model output written to out/PfMATE/unconstrained/PfMATE_A/PfMATE_A_model_1_output_dict.pkl...\n"
     ]
    },
    {
     "name": "stdout",
     "output_type": "stream",
     "text": [
      "out/PfMATE/unconstrained/PfMATE_A_model_3.pdb .......Complete\n"
     ]
    },
    {
     "name": "stderr",
     "output_type": "stream",
     "text": [
      "INFO:/panfs/accrepfs.vampire/data/mchaourab/wut18/release/DEERFold/deerfold_processor.py:Loaded OpenFold parameters at models/updated_DEERFold_helix.pt...\n",
      "INFO:/panfs/accrepfs.vampire/data/mchaourab/wut18/release/DEERFold/deerfold_processor.py:Using precomputed alignments for PfMATE_A at examples/alignments...\n",
      "INFO:/panfs/accrepfs.vampire/data/mchaourab/wut18/release/DEERFold/deerfold_processor.py:Subsampling MSA to Neff=5...\n",
      "INFO:/panfs/accrepfs.vampire/data/mchaourab/wut18/release/DEERFold/deerfold_processor.py:Running inference for PfMATE_A...\n",
      "INFO:/panfs/accrepfs.vampire/data/mchaourab/wut18/release/DEERFold/deerfold_processor.py:Inference time: 45.461750423535705\n",
      "INFO:/panfs/accrepfs.vampire/data/mchaourab/wut18/release/DEERFold/deerfold_processor.py:Output written to out/PfMATE/unconstrained/PfMATE_A/PfMATE_A_model_1_unrelaxed.pdb...\n",
      "INFO:/panfs/accrepfs.vampire/data/mchaourab/wut18/release/DEERFold/deerfold_processor.py:Model output written to out/PfMATE/unconstrained/PfMATE_A/PfMATE_A_model_1_output_dict.pkl...\n"
     ]
    },
    {
     "name": "stdout",
     "output_type": "stream",
     "text": [
      "out/PfMATE/unconstrained/PfMATE_A_model_4.pdb .......Complete\n"
     ]
    },
    {
     "name": "stderr",
     "output_type": "stream",
     "text": [
      "INFO:/panfs/accrepfs.vampire/data/mchaourab/wut18/release/DEERFold/deerfold_processor.py:Loaded OpenFold parameters at models/updated_DEERFold_helix.pt...\n",
      "INFO:/panfs/accrepfs.vampire/data/mchaourab/wut18/release/DEERFold/deerfold_processor.py:Using precomputed alignments for PfMATE_A at examples/alignments...\n",
      "INFO:/panfs/accrepfs.vampire/data/mchaourab/wut18/release/DEERFold/deerfold_processor.py:Subsampling MSA to Neff=5...\n",
      "INFO:/panfs/accrepfs.vampire/data/mchaourab/wut18/release/DEERFold/deerfold_processor.py:Running inference for PfMATE_A...\n",
      "INFO:/panfs/accrepfs.vampire/data/mchaourab/wut18/release/DEERFold/deerfold_processor.py:Inference time: 45.52101677283645\n",
      "INFO:/panfs/accrepfs.vampire/data/mchaourab/wut18/release/DEERFold/deerfold_processor.py:Output written to out/PfMATE/unconstrained/PfMATE_A/PfMATE_A_model_1_unrelaxed.pdb...\n",
      "INFO:/panfs/accrepfs.vampire/data/mchaourab/wut18/release/DEERFold/deerfold_processor.py:Model output written to out/PfMATE/unconstrained/PfMATE_A/PfMATE_A_model_1_output_dict.pkl...\n"
     ]
    },
    {
     "name": "stdout",
     "output_type": "stream",
     "text": [
      "out/PfMATE/unconstrained/PfMATE_A_model_5.pdb .......Complete\n"
     ]
    },
    {
     "name": "stderr",
     "output_type": "stream",
     "text": [
      "INFO:/panfs/accrepfs.vampire/data/mchaourab/wut18/release/DEERFold/deerfold_processor.py:Loaded OpenFold parameters at models/updated_DEERFold_strand.pt...\n",
      "INFO:/panfs/accrepfs.vampire/data/mchaourab/wut18/release/DEERFold/deerfold_processor.py:Using precomputed alignments for PfMATE_A at examples/alignments...\n",
      "INFO:/panfs/accrepfs.vampire/data/mchaourab/wut18/release/DEERFold/deerfold_processor.py:Subsampling MSA to Neff=5...\n",
      "INFO:/panfs/accrepfs.vampire/data/mchaourab/wut18/release/DEERFold/deerfold_processor.py:Running inference for PfMATE_A...\n",
      "INFO:/panfs/accrepfs.vampire/data/mchaourab/wut18/release/DEERFold/deerfold_processor.py:Inference time: 45.46832067146897\n",
      "INFO:/panfs/accrepfs.vampire/data/mchaourab/wut18/release/DEERFold/deerfold_processor.py:Output written to out/PfMATE/unconstrained/PfMATE_A/PfMATE_A_model_1_unrelaxed.pdb...\n",
      "INFO:/panfs/accrepfs.vampire/data/mchaourab/wut18/release/DEERFold/deerfold_processor.py:Model output written to out/PfMATE/unconstrained/PfMATE_A/PfMATE_A_model_1_output_dict.pkl...\n"
     ]
    },
    {
     "name": "stdout",
     "output_type": "stream",
     "text": [
      "out/PfMATE/unconstrained/PfMATE_A_model_6.pdb .......Complete\n"
     ]
    },
    {
     "name": "stderr",
     "output_type": "stream",
     "text": [
      "INFO:/panfs/accrepfs.vampire/data/mchaourab/wut18/release/DEERFold/deerfold_processor.py:Loaded OpenFold parameters at models/updated_DEERFold_strand.pt...\n",
      "INFO:/panfs/accrepfs.vampire/data/mchaourab/wut18/release/DEERFold/deerfold_processor.py:Using precomputed alignments for PfMATE_A at examples/alignments...\n",
      "INFO:/panfs/accrepfs.vampire/data/mchaourab/wut18/release/DEERFold/deerfold_processor.py:Subsampling MSA to Neff=5...\n",
      "INFO:/panfs/accrepfs.vampire/data/mchaourab/wut18/release/DEERFold/deerfold_processor.py:Running inference for PfMATE_A...\n",
      "INFO:/panfs/accrepfs.vampire/data/mchaourab/wut18/release/DEERFold/deerfold_processor.py:Inference time: 45.522376576438546\n",
      "INFO:/panfs/accrepfs.vampire/data/mchaourab/wut18/release/DEERFold/deerfold_processor.py:Output written to out/PfMATE/unconstrained/PfMATE_A/PfMATE_A_model_1_unrelaxed.pdb...\n",
      "INFO:/panfs/accrepfs.vampire/data/mchaourab/wut18/release/DEERFold/deerfold_processor.py:Model output written to out/PfMATE/unconstrained/PfMATE_A/PfMATE_A_model_1_output_dict.pkl...\n"
     ]
    },
    {
     "name": "stdout",
     "output_type": "stream",
     "text": [
      "out/PfMATE/unconstrained/PfMATE_A_model_7.pdb .......Complete\n"
     ]
    },
    {
     "name": "stderr",
     "output_type": "stream",
     "text": [
      "INFO:/panfs/accrepfs.vampire/data/mchaourab/wut18/release/DEERFold/deerfold_processor.py:Loaded OpenFold parameters at models/updated_DEERFold_strand.pt...\n",
      "INFO:/panfs/accrepfs.vampire/data/mchaourab/wut18/release/DEERFold/deerfold_processor.py:Using precomputed alignments for PfMATE_A at examples/alignments...\n",
      "INFO:/panfs/accrepfs.vampire/data/mchaourab/wut18/release/DEERFold/deerfold_processor.py:Subsampling MSA to Neff=5...\n",
      "INFO:/panfs/accrepfs.vampire/data/mchaourab/wut18/release/DEERFold/deerfold_processor.py:Running inference for PfMATE_A...\n",
      "INFO:/panfs/accrepfs.vampire/data/mchaourab/wut18/release/DEERFold/deerfold_processor.py:Inference time: 45.55149883404374\n",
      "INFO:/panfs/accrepfs.vampire/data/mchaourab/wut18/release/DEERFold/deerfold_processor.py:Output written to out/PfMATE/unconstrained/PfMATE_A/PfMATE_A_model_1_unrelaxed.pdb...\n",
      "INFO:/panfs/accrepfs.vampire/data/mchaourab/wut18/release/DEERFold/deerfold_processor.py:Model output written to out/PfMATE/unconstrained/PfMATE_A/PfMATE_A_model_1_output_dict.pkl...\n"
     ]
    },
    {
     "name": "stdout",
     "output_type": "stream",
     "text": [
      "out/PfMATE/unconstrained/PfMATE_A_model_8.pdb .......Complete\n"
     ]
    },
    {
     "name": "stderr",
     "output_type": "stream",
     "text": [
      "INFO:/panfs/accrepfs.vampire/data/mchaourab/wut18/release/DEERFold/deerfold_processor.py:Loaded OpenFold parameters at models/updated_DEERFold_strand.pt...\n",
      "INFO:/panfs/accrepfs.vampire/data/mchaourab/wut18/release/DEERFold/deerfold_processor.py:Using precomputed alignments for PfMATE_A at examples/alignments...\n",
      "INFO:/panfs/accrepfs.vampire/data/mchaourab/wut18/release/DEERFold/deerfold_processor.py:Subsampling MSA to Neff=5...\n",
      "INFO:/panfs/accrepfs.vampire/data/mchaourab/wut18/release/DEERFold/deerfold_processor.py:Running inference for PfMATE_A...\n",
      "INFO:/panfs/accrepfs.vampire/data/mchaourab/wut18/release/DEERFold/deerfold_processor.py:Inference time: 45.57071445323527\n",
      "INFO:/panfs/accrepfs.vampire/data/mchaourab/wut18/release/DEERFold/deerfold_processor.py:Output written to out/PfMATE/unconstrained/PfMATE_A/PfMATE_A_model_1_unrelaxed.pdb...\n",
      "INFO:/panfs/accrepfs.vampire/data/mchaourab/wut18/release/DEERFold/deerfold_processor.py:Model output written to out/PfMATE/unconstrained/PfMATE_A/PfMATE_A_model_1_output_dict.pkl...\n"
     ]
    },
    {
     "name": "stdout",
     "output_type": "stream",
     "text": [
      "out/PfMATE/unconstrained/PfMATE_A_model_9.pdb .......Complete\n"
     ]
    },
    {
     "name": "stderr",
     "output_type": "stream",
     "text": [
      "INFO:/panfs/accrepfs.vampire/data/mchaourab/wut18/release/DEERFold/deerfold_processor.py:Loaded OpenFold parameters at models/updated_DEERFold_strand.pt...\n",
      "INFO:/panfs/accrepfs.vampire/data/mchaourab/wut18/release/DEERFold/deerfold_processor.py:Using precomputed alignments for PfMATE_A at examples/alignments...\n",
      "INFO:/panfs/accrepfs.vampire/data/mchaourab/wut18/release/DEERFold/deerfold_processor.py:Subsampling MSA to Neff=5...\n",
      "INFO:/panfs/accrepfs.vampire/data/mchaourab/wut18/release/DEERFold/deerfold_processor.py:Running inference for PfMATE_A...\n",
      "INFO:/panfs/accrepfs.vampire/data/mchaourab/wut18/release/DEERFold/deerfold_processor.py:Inference time: 45.56148824468255\n",
      "INFO:/panfs/accrepfs.vampire/data/mchaourab/wut18/release/DEERFold/deerfold_processor.py:Output written to out/PfMATE/unconstrained/PfMATE_A/PfMATE_A_model_1_unrelaxed.pdb...\n",
      "INFO:/panfs/accrepfs.vampire/data/mchaourab/wut18/release/DEERFold/deerfold_processor.py:Model output written to out/PfMATE/unconstrained/PfMATE_A/PfMATE_A_model_1_output_dict.pkl...\n"
     ]
    },
    {
     "name": "stdout",
     "output_type": "stream",
     "text": [
      "out/PfMATE/unconstrained/PfMATE_A_model_10.pdb .......Complete\n"
     ]
    },
    {
     "name": "stderr",
     "output_type": "stream",
     "text": [
      "INFO:/panfs/accrepfs.vampire/data/mchaourab/wut18/release/DEERFold/deerfold_processor.py:Loaded OpenFold parameters at models/updated_DEERFold_com.pt...\n",
      "INFO:/panfs/accrepfs.vampire/data/mchaourab/wut18/release/DEERFold/deerfold_processor.py:Using precomputed alignments for PfMATE_A at examples/alignments...\n",
      "INFO:/panfs/accrepfs.vampire/data/mchaourab/wut18/release/DEERFold/deerfold_processor.py:Subsampling MSA to Neff=5...\n",
      "INFO:/panfs/accrepfs.vampire/data/mchaourab/wut18/release/DEERFold/deerfold_processor.py:Running inference for PfMATE_A...\n",
      "INFO:/panfs/accrepfs.vampire/data/mchaourab/wut18/release/DEERFold/deerfold_processor.py:Inference time: 45.44279359281063\n",
      "INFO:/panfs/accrepfs.vampire/data/mchaourab/wut18/release/DEERFold/deerfold_processor.py:Output written to out/PfMATE/unconstrained/PfMATE_A/PfMATE_A_model_1_unrelaxed.pdb...\n",
      "INFO:/panfs/accrepfs.vampire/data/mchaourab/wut18/release/DEERFold/deerfold_processor.py:Model output written to out/PfMATE/unconstrained/PfMATE_A/PfMATE_A_model_1_output_dict.pkl...\n"
     ]
    },
    {
     "name": "stdout",
     "output_type": "stream",
     "text": [
      "out/PfMATE/unconstrained/PfMATE_A_model_11.pdb .......Complete\n"
     ]
    },
    {
     "name": "stderr",
     "output_type": "stream",
     "text": [
      "INFO:/panfs/accrepfs.vampire/data/mchaourab/wut18/release/DEERFold/deerfold_processor.py:Loaded OpenFold parameters at models/updated_DEERFold_com.pt...\n",
      "INFO:/panfs/accrepfs.vampire/data/mchaourab/wut18/release/DEERFold/deerfold_processor.py:Using precomputed alignments for PfMATE_A at examples/alignments...\n",
      "INFO:/panfs/accrepfs.vampire/data/mchaourab/wut18/release/DEERFold/deerfold_processor.py:Subsampling MSA to Neff=5...\n",
      "INFO:/panfs/accrepfs.vampire/data/mchaourab/wut18/release/DEERFold/deerfold_processor.py:Running inference for PfMATE_A...\n",
      "INFO:/panfs/accrepfs.vampire/data/mchaourab/wut18/release/DEERFold/deerfold_processor.py:Inference time: 45.50238934159279\n",
      "INFO:/panfs/accrepfs.vampire/data/mchaourab/wut18/release/DEERFold/deerfold_processor.py:Output written to out/PfMATE/unconstrained/PfMATE_A/PfMATE_A_model_1_unrelaxed.pdb...\n",
      "INFO:/panfs/accrepfs.vampire/data/mchaourab/wut18/release/DEERFold/deerfold_processor.py:Model output written to out/PfMATE/unconstrained/PfMATE_A/PfMATE_A_model_1_output_dict.pkl...\n"
     ]
    },
    {
     "name": "stdout",
     "output_type": "stream",
     "text": [
      "out/PfMATE/unconstrained/PfMATE_A_model_12.pdb .......Complete\n"
     ]
    },
    {
     "name": "stderr",
     "output_type": "stream",
     "text": [
      "INFO:/panfs/accrepfs.vampire/data/mchaourab/wut18/release/DEERFold/deerfold_processor.py:Loaded OpenFold parameters at models/updated_DEERFold_com.pt...\n",
      "INFO:/panfs/accrepfs.vampire/data/mchaourab/wut18/release/DEERFold/deerfold_processor.py:Using precomputed alignments for PfMATE_A at examples/alignments...\n",
      "INFO:/panfs/accrepfs.vampire/data/mchaourab/wut18/release/DEERFold/deerfold_processor.py:Subsampling MSA to Neff=5...\n",
      "INFO:/panfs/accrepfs.vampire/data/mchaourab/wut18/release/DEERFold/deerfold_processor.py:Running inference for PfMATE_A...\n",
      "INFO:/panfs/accrepfs.vampire/data/mchaourab/wut18/release/DEERFold/deerfold_processor.py:Inference time: 45.55789511464536\n",
      "INFO:/panfs/accrepfs.vampire/data/mchaourab/wut18/release/DEERFold/deerfold_processor.py:Output written to out/PfMATE/unconstrained/PfMATE_A/PfMATE_A_model_1_unrelaxed.pdb...\n",
      "INFO:/panfs/accrepfs.vampire/data/mchaourab/wut18/release/DEERFold/deerfold_processor.py:Model output written to out/PfMATE/unconstrained/PfMATE_A/PfMATE_A_model_1_output_dict.pkl...\n"
     ]
    },
    {
     "name": "stdout",
     "output_type": "stream",
     "text": [
      "out/PfMATE/unconstrained/PfMATE_A_model_13.pdb .......Complete\n"
     ]
    },
    {
     "name": "stderr",
     "output_type": "stream",
     "text": [
      "INFO:/panfs/accrepfs.vampire/data/mchaourab/wut18/release/DEERFold/deerfold_processor.py:Loaded OpenFold parameters at models/updated_DEERFold_com.pt...\n",
      "INFO:/panfs/accrepfs.vampire/data/mchaourab/wut18/release/DEERFold/deerfold_processor.py:Using precomputed alignments for PfMATE_A at examples/alignments...\n",
      "INFO:/panfs/accrepfs.vampire/data/mchaourab/wut18/release/DEERFold/deerfold_processor.py:Subsampling MSA to Neff=5...\n",
      "INFO:/panfs/accrepfs.vampire/data/mchaourab/wut18/release/DEERFold/deerfold_processor.py:Running inference for PfMATE_A...\n",
      "INFO:/panfs/accrepfs.vampire/data/mchaourab/wut18/release/DEERFold/deerfold_processor.py:Inference time: 45.53163078799844\n",
      "INFO:/panfs/accrepfs.vampire/data/mchaourab/wut18/release/DEERFold/deerfold_processor.py:Output written to out/PfMATE/unconstrained/PfMATE_A/PfMATE_A_model_1_unrelaxed.pdb...\n",
      "INFO:/panfs/accrepfs.vampire/data/mchaourab/wut18/release/DEERFold/deerfold_processor.py:Model output written to out/PfMATE/unconstrained/PfMATE_A/PfMATE_A_model_1_output_dict.pkl...\n"
     ]
    },
    {
     "name": "stdout",
     "output_type": "stream",
     "text": [
      "out/PfMATE/unconstrained/PfMATE_A_model_14.pdb .......Complete\n"
     ]
    },
    {
     "name": "stderr",
     "output_type": "stream",
     "text": [
      "INFO:/panfs/accrepfs.vampire/data/mchaourab/wut18/release/DEERFold/deerfold_processor.py:Loaded OpenFold parameters at models/updated_DEERFold_com.pt...\n",
      "INFO:/panfs/accrepfs.vampire/data/mchaourab/wut18/release/DEERFold/deerfold_processor.py:Using precomputed alignments for PfMATE_A at examples/alignments...\n",
      "INFO:/panfs/accrepfs.vampire/data/mchaourab/wut18/release/DEERFold/deerfold_processor.py:Subsampling MSA to Neff=5...\n",
      "INFO:/panfs/accrepfs.vampire/data/mchaourab/wut18/release/DEERFold/deerfold_processor.py:Running inference for PfMATE_A...\n",
      "INFO:/panfs/accrepfs.vampire/data/mchaourab/wut18/release/DEERFold/deerfold_processor.py:Inference time: 45.55043095909059\n",
      "INFO:/panfs/accrepfs.vampire/data/mchaourab/wut18/release/DEERFold/deerfold_processor.py:Output written to out/PfMATE/unconstrained/PfMATE_A/PfMATE_A_model_1_unrelaxed.pdb...\n",
      "INFO:/panfs/accrepfs.vampire/data/mchaourab/wut18/release/DEERFold/deerfold_processor.py:Model output written to out/PfMATE/unconstrained/PfMATE_A/PfMATE_A_model_1_output_dict.pkl...\n"
     ]
    },
    {
     "name": "stdout",
     "output_type": "stream",
     "text": [
      "out/PfMATE/unconstrained/PfMATE_A_model_15.pdb .......Complete\n",
      "\n",
      "\n",
      "Average RMSD between prediction and examples/PfMATE/6gwh.pdb: 1.2719333333333334\n",
      "Best RMSD between prediction(['PfMATE_A_model_12.pdb']) and examples/PfMATE/6gwh.pdb: 0.765\n",
      "{'PfMATE_A_model_1.pdb': 1.08, 'PfMATE_A_model_2.pdb': 1.371, 'PfMATE_A_model_3.pdb': 0.832, 'PfMATE_A_model_4.pdb': 2.756, 'PfMATE_A_model_5.pdb': 0.777, 'PfMATE_A_model_6.pdb': 1.33, 'PfMATE_A_model_7.pdb': 3.718, 'PfMATE_A_model_8.pdb': 0.85, 'PfMATE_A_model_9.pdb': 0.918, 'PfMATE_A_model_10.pdb': 0.916, 'PfMATE_A_model_11.pdb': 0.983, 'PfMATE_A_model_12.pdb': 0.765, 'PfMATE_A_model_13.pdb': 1.001, 'PfMATE_A_model_14.pdb': 0.876, 'PfMATE_A_model_15.pdb': 0.906} \n",
      "\n",
      "Average TMscore between prediction and examples/PfMATE/6gwh.pdb: 0.9682666666666667\n",
      "Best TMscore between prediction(['PfMATE_A_model_12.pdb']) and examples/PfMATE/6gwh.pdb: 0.99\n",
      "{'PfMATE_A_model_1.pdb': 0.9805, 'PfMATE_A_model_2.pdb': 0.9692, 'PfMATE_A_model_3.pdb': 0.9881, 'PfMATE_A_model_4.pdb': 0.9108, 'PfMATE_A_model_5.pdb': 0.9897, 'PfMATE_A_model_6.pdb': 0.9723, 'PfMATE_A_model_7.pdb': 0.8241, 'PfMATE_A_model_8.pdb': 0.9878, 'PfMATE_A_model_9.pdb': 0.9857, 'PfMATE_A_model_10.pdb': 0.9858, 'PfMATE_A_model_11.pdb': 0.9837, 'PfMATE_A_model_12.pdb': 0.99, 'PfMATE_A_model_13.pdb': 0.9833, 'PfMATE_A_model_14.pdb': 0.987, 'PfMATE_A_model_15.pdb': 0.986} \n",
      "\n",
      "Average RMSD between prediction and examples/PfMATE/6fhz.pdb: 4.688666666666666\n",
      "Best RMSD between prediction(['PfMATE_A_model_7.pdb']) and examples/PfMATE/6fhz.pdb: 1.837\n",
      "{'PfMATE_A_model_1.pdb': 4.732, 'PfMATE_A_model_2.pdb': 4.476, 'PfMATE_A_model_3.pdb': 5.061, 'PfMATE_A_model_4.pdb': 4.294, 'PfMATE_A_model_5.pdb': 4.927, 'PfMATE_A_model_6.pdb': 4.204, 'PfMATE_A_model_7.pdb': 1.837, 'PfMATE_A_model_8.pdb': 4.886, 'PfMATE_A_model_9.pdb': 4.799, 'PfMATE_A_model_10.pdb': 4.855, 'PfMATE_A_model_11.pdb': 5.341, 'PfMATE_A_model_12.pdb': 5.098, 'PfMATE_A_model_13.pdb': 5.413, 'PfMATE_A_model_14.pdb': 5.085, 'PfMATE_A_model_15.pdb': 5.322} \n",
      "\n",
      "Average TMscore between prediction and examples/PfMATE/6fhz.pdb: 0.76304\n",
      "Best TMscore between prediction(['PfMATE_A_model_7.pdb']) and examples/PfMATE/6fhz.pdb: 0.9484\n",
      "{'PfMATE_A_model_1.pdb': 0.7633, 'PfMATE_A_model_2.pdb': 0.7879, 'PfMATE_A_model_3.pdb': 0.7355, 'PfMATE_A_model_4.pdb': 0.8181, 'PfMATE_A_model_5.pdb': 0.7457, 'PfMATE_A_model_6.pdb': 0.8019, 'PfMATE_A_model_7.pdb': 0.9484, 'PfMATE_A_model_8.pdb': 0.7466, 'PfMATE_A_model_9.pdb': 0.755, 'PfMATE_A_model_10.pdb': 0.7473, 'PfMATE_A_model_11.pdb': 0.7132, 'PfMATE_A_model_12.pdb': 0.7297, 'PfMATE_A_model_13.pdb': 0.7072, 'PfMATE_A_model_14.pdb': 0.7308, 'PfMATE_A_model_15.pdb': 0.715} \n",
      "\n",
      "DEERFold script execution completed.\n",
      "\n",
      "Contents of the output directory:\n",
      "empty.csv\n",
      "PfMATE_A_model_1.pdb\n",
      "PfMATE_A_model_2.pdb\n",
      "PfMATE_A_model_3.pdb\n",
      "PfMATE_A_model_4.pdb\n",
      "PfMATE_A_model_5.pdb\n",
      "PfMATE_A_model_6.pdb\n",
      "PfMATE_A_model_7.pdb\n",
      "PfMATE_A_model_8.pdb\n",
      "PfMATE_A_model_9.pdb\n",
      "PfMATE_A_model_10.pdb\n",
      "PfMATE_A_model_11.pdb\n",
      "PfMATE_A_model_12.pdb\n",
      "PfMATE_A_model_13.pdb\n",
      "PfMATE_A_model_15.pdb\n",
      "PfMATE_A_model_14.pdb\n"
     ]
    }
   ],
   "source": [
    "import sys\n",
    "import os\n",
    "\n",
    "# Add the parent directory to the Python path\n",
    "notebook_dir = os.path.abspath('./')\n",
    "parent_dir = os.path.dirname(notebook_dir)\n",
    "sys.path.append(parent_dir)\n",
    "os.chdir(parent_dir)\n",
    "print(f\"Current working directory changed to: {parent_dir}\")\n",
    "\n",
    "from deerfold_processor import run_deerfold\n",
    "from deerfold_inference import main\n",
    "\n",
    "# Create a mock argparse.Namespace object to simulate command-line arguments\n",
    "class Args:\n",
    "    def __init__(self, **kwargs):\n",
    "        # Define default values for all expected arguments\n",
    "        defaults = {\n",
    "            \"fasta\": None,\n",
    "            \"splabel\": None,\n",
    "            \"msa_dir\": None,\n",
    "            \"models\": None,\n",
    "            \"neff\": None,\n",
    "            \"ref_pdbs\": None,\n",
    "            \"outdir\": None,\n",
    "            \"num_models\": None,\n",
    "            \"model_device\": \"cuda:0\",\n",
    "            \"features\": None,\n",
    "        }\n",
    "        \n",
    "        # Update defaults with any provided arguments\n",
    "        defaults.update(kwargs)\n",
    "        \n",
    "        # Set each key-value pair as an attribute of the instance\n",
    "        for key, value in defaults.items():\n",
    "            setattr(self, key, value)\n",
    "\n",
    "# Set up the arguments\n",
    "args = Args(\n",
    "    fasta=\"examples/PfMATE/PfMATE_A.fasta\",\n",
    "    msa_dir=\"examples/alignments\",\n",
    "    models='models/updated_DEERFold_helix.pt,models/updated_DEERFold_strand.pt,models/updated_DEERFold_com.pt',\n",
    "    neff=5,\n",
    "    ref_pdbs=\"examples/PfMATE/6gwh.pdb,examples/PfMATE/6fhz.pdb\",\n",
    "    outdir=\"out/PfMATE/unconstrained\",\n",
    "    num_models=15\n",
    ")\n",
    "\n",
    "# Make sure the output directory exists\n",
    "os.makedirs(args.outdir, exist_ok=True)\n",
    "\n",
    "# Run the main function\n",
    "main(args)\n",
    "\n",
    "# Print a message to confirm the script has finished running\n",
    "print(\"DEERFold script execution completed.\")\n",
    "\n",
    "# If you want to examine the output, you can list the contents of the output directory\n",
    "print(\"\\nContents of the output directory:\")\n",
    "for file in os.listdir(args.outdir):\n",
    "    print(file)"
   ]
  },
  {
   "cell_type": "markdown",
   "metadata": {},
   "source": [
    "<div style=\"display: flex; flex-direction: column; align-items: center;\">\n",
    "  <div style=\"display: flex; justify-content: space-around; width: 100%; margin-bottom: 20px;\">\n",
    "    <div style=\"text-align: center;\">\n",
    "      <img src=\"PfMATE/unconstrained_model_1.png\" width=\"200\" alt=\"Model1\">\n",
    "      <p style=\"margin-top: 10px;text-align: center;\">Model 1</p>\n",
    "    </div>\n",
    "    <div style=\"text-align: center;\">\n",
    "      <img src=\"PfMATE/unconstrained_model_2.png\" width=\"200\" alt=\"Model2\">\n",
    "      <p style=\"margin-top: 10px;text-align: center;\">Model 2</p>\n",
    "    </div>\n",
    "    <div style=\"text-align: center;\">\n",
    "      <img src=\"PfMATE/unconstrained_model_3.png\" width=\"200\" alt=\"Model3\">\n",
    "      <p style=\"margin-top: 10px;text-align: center;\">Model 3</p>\n",
    "    </div>\n",
    "    <div style=\"text-align: center;\">\n",
    "      <img src=\"PfMATE/unconstrained_model_4.png\" width=\"200\" alt=\"Model4\">\n",
    "      <p style=\"margin-top: 10px;text-align: center;\">Model 4</p>\n",
    "    </div>\n",
    "    <div style=\"text-align: center;\">\n",
    "      <img src=\"PfMATE/unconstrained_model_5.png\" width=\"200\" alt=\"Model5\">\n",
    "      <p style=\"margin-top: 10px;text-align: center;\">Model 5</p>\n",
    "    </div>\n",
    "  </div>\n",
    "</div>\n",
    "<div style=\"text-align: center; margin-top: 20px;\">\n",
    "<strong>Model 1-5 of Unconstrained models</strong>\n",
    "</div>"
   ]
  },
  {
   "cell_type": "markdown",
   "metadata": {},
   "source": [
    "## Constrained prediction\n",
    "\n",
    "### Input Format\n",
    "DEERFold can accept input DEER distance constraints in csv format, the format is shown as below:\n",
    "```\n",
    "18,95,0,0,0,0,2.00E-05,7.00E-05,0.00027,0.0009,0.0027,0.00708,0.01622,0,0,0,0,...\n",
    "18,215,0,0,0,0,0,0,8.00E-05,0.000940009,0.007260073,0.035440354,0.109791098,0.215792158,...\n",
    "18,240,0,0,1.00E-05,4.00E-05,0.000169995,0.00067998,0.00233993,0.006879794,0.017259482,...\n",
    "```\n",
    "E.g. <span style=\"background-color: yellow;\">splabel=\"examples/PfMATE/experiment.csv\"</span>\n",
    "\n",
    "The constraints are in the format of distograms across 100 bins (shape LxLx100):\n",
    "- Bin 1: Less than or equal to 1.5 Å\n",
    "- Bin 2: (1.5 Å, 2.5 Å] \n",
    "- Bin 3: (2.5 Å, 3.5 Å] \n",
    "- ...\n",
    "- Bin 99: (98.5 Å, 99.5 Å]\n",
    "- Bin 100: Greater than 99.5 Å\n",
    "\n",
    "To run inference on a sequence with the given DEER constraints, make sure you have the following:\n",
    "- `fasta`: Input sequence file in FASTA format.\n",
    "- `splabel`: Input file with DEER constraints in CSV format.\n",
    "- `msa_dir`: Directory containing multiple sequence alignments.\n",
    "- `out_dir`: Directory to save output models.\n",
    "- `models`: Directory storing all the model weights.\n",
    "- `neff`: MSA Neff value.\n",
    "- `num_models`: Number of models to generate.\n",
    "- `ref_pdbs`: Reference PDB files for RMSD and TM-score analysis (optional)."
   ]
  },
  {
   "cell_type": "code",
   "execution_count": 1,
   "metadata": {},
   "outputs": [
    {
     "name": "stdout",
     "output_type": "stream",
     "text": [
      "Current working directory changed to: /panfs/accrepfs.vampire/data/mchaourab/wut18/release/DEERFold\n"
     ]
    },
    {
     "name": "stderr",
     "output_type": "stream",
     "text": [
      "/panfs/accrepfs.vampire/data/mchaourab/wut18/release/DEERFold/env/deerfold_venv/lib/python3.9/site-packages/MDAnalysis/coordinates/chemfiles.py:108: DeprecationWarning: distutils Version classes are deprecated. Use packaging.version instead.\n",
      "  MIN_CHEMFILES_VERSION = LooseVersion(\"0.9\")\n",
      "WARNING:MDAnalysis.coordinates.AMBER:netCDF4 is not available. Writing AMBER ncdf files will be slow.\n"
     ]
    },
    {
     "name": "stdout",
     "output_type": "stream",
     "text": [
      "examples/PfMATE/experiment.csv # of distance constraints: 25, residues are {134, 394, 269, 18, 274, 413, 35, 167, 44, 186, 442, 318, 196, 215, 348, 95, 364, 240, 120}\n"
     ]
    },
    {
     "name": "stderr",
     "output_type": "stream",
     "text": [
      "INFO:/panfs/accrepfs.vampire/data/mchaourab/wut18/release/DEERFold/deerfold_processor.py:Loaded OpenFold parameters at models/updated_DEERFold_helix.pt...\n",
      "INFO:/panfs/accrepfs.vampire/data/mchaourab/wut18/release/DEERFold/deerfold_processor.py:Using precomputed alignments for PfMATE_A at examples/alignments...\n",
      "INFO:/panfs/accrepfs.vampire/data/mchaourab/wut18/release/DEERFold/deerfold_processor.py:Subsampling MSA to Neff=5...\n",
      "INFO:/panfs/accrepfs.vampire/data/mchaourab/wut18/release/DEERFold/deerfold_processor.py:Running inference for PfMATE_A...\n",
      "INFO:/panfs/accrepfs.vampire/data/mchaourab/wut18/release/DEERFold/deerfold_processor.py:Inference time: 45.75080025754869\n",
      "INFO:/panfs/accrepfs.vampire/data/mchaourab/wut18/release/DEERFold/deerfold_processor.py:Output written to out/PfMATE/PfMATE_A/PfMATE_A_model_1_unrelaxed.pdb...\n",
      "INFO:/panfs/accrepfs.vampire/data/mchaourab/wut18/release/DEERFold/deerfold_processor.py:Model output written to out/PfMATE/PfMATE_A/PfMATE_A_model_1_output_dict.pkl...\n"
     ]
    },
    {
     "name": "stdout",
     "output_type": "stream",
     "text": [
      "out/PfMATE/PfMATE_A_model_1.pdb .......Complete\n"
     ]
    },
    {
     "name": "stderr",
     "output_type": "stream",
     "text": [
      "INFO:/panfs/accrepfs.vampire/data/mchaourab/wut18/release/DEERFold/deerfold_processor.py:Loaded OpenFold parameters at models/updated_DEERFold_helix.pt...\n",
      "INFO:/panfs/accrepfs.vampire/data/mchaourab/wut18/release/DEERFold/deerfold_processor.py:Using precomputed alignments for PfMATE_A at examples/alignments...\n",
      "INFO:/panfs/accrepfs.vampire/data/mchaourab/wut18/release/DEERFold/deerfold_processor.py:Subsampling MSA to Neff=5...\n",
      "INFO:/panfs/accrepfs.vampire/data/mchaourab/wut18/release/DEERFold/deerfold_processor.py:Running inference for PfMATE_A...\n",
      "INFO:/panfs/accrepfs.vampire/data/mchaourab/wut18/release/DEERFold/deerfold_processor.py:Inference time: 45.27871306054294\n",
      "INFO:/panfs/accrepfs.vampire/data/mchaourab/wut18/release/DEERFold/deerfold_processor.py:Output written to out/PfMATE/PfMATE_A/PfMATE_A_model_1_unrelaxed.pdb...\n",
      "INFO:/panfs/accrepfs.vampire/data/mchaourab/wut18/release/DEERFold/deerfold_processor.py:Model output written to out/PfMATE/PfMATE_A/PfMATE_A_model_1_output_dict.pkl...\n"
     ]
    },
    {
     "name": "stdout",
     "output_type": "stream",
     "text": [
      "out/PfMATE/PfMATE_A_model_2.pdb .......Complete\n"
     ]
    },
    {
     "name": "stderr",
     "output_type": "stream",
     "text": [
      "INFO:/panfs/accrepfs.vampire/data/mchaourab/wut18/release/DEERFold/deerfold_processor.py:Loaded OpenFold parameters at models/updated_DEERFold_helix.pt...\n",
      "INFO:/panfs/accrepfs.vampire/data/mchaourab/wut18/release/DEERFold/deerfold_processor.py:Using precomputed alignments for PfMATE_A at examples/alignments...\n",
      "INFO:/panfs/accrepfs.vampire/data/mchaourab/wut18/release/DEERFold/deerfold_processor.py:Subsampling MSA to Neff=5...\n",
      "INFO:/panfs/accrepfs.vampire/data/mchaourab/wut18/release/DEERFold/deerfold_processor.py:Running inference for PfMATE_A...\n",
      "INFO:/panfs/accrepfs.vampire/data/mchaourab/wut18/release/DEERFold/deerfold_processor.py:Inference time: 45.50577187910676\n",
      "INFO:/panfs/accrepfs.vampire/data/mchaourab/wut18/release/DEERFold/deerfold_processor.py:Output written to out/PfMATE/PfMATE_A/PfMATE_A_model_1_unrelaxed.pdb...\n",
      "INFO:/panfs/accrepfs.vampire/data/mchaourab/wut18/release/DEERFold/deerfold_processor.py:Model output written to out/PfMATE/PfMATE_A/PfMATE_A_model_1_output_dict.pkl...\n"
     ]
    },
    {
     "name": "stdout",
     "output_type": "stream",
     "text": [
      "out/PfMATE/PfMATE_A_model_3.pdb .......Complete\n"
     ]
    },
    {
     "name": "stderr",
     "output_type": "stream",
     "text": [
      "INFO:/panfs/accrepfs.vampire/data/mchaourab/wut18/release/DEERFold/deerfold_processor.py:Loaded OpenFold parameters at models/updated_DEERFold_helix.pt...\n",
      "INFO:/panfs/accrepfs.vampire/data/mchaourab/wut18/release/DEERFold/deerfold_processor.py:Using precomputed alignments for PfMATE_A at examples/alignments...\n",
      "INFO:/panfs/accrepfs.vampire/data/mchaourab/wut18/release/DEERFold/deerfold_processor.py:Subsampling MSA to Neff=5...\n",
      "INFO:/panfs/accrepfs.vampire/data/mchaourab/wut18/release/DEERFold/deerfold_processor.py:Running inference for PfMATE_A...\n",
      "INFO:/panfs/accrepfs.vampire/data/mchaourab/wut18/release/DEERFold/deerfold_processor.py:Inference time: 45.55017178878188\n",
      "INFO:/panfs/accrepfs.vampire/data/mchaourab/wut18/release/DEERFold/deerfold_processor.py:Output written to out/PfMATE/PfMATE_A/PfMATE_A_model_1_unrelaxed.pdb...\n",
      "INFO:/panfs/accrepfs.vampire/data/mchaourab/wut18/release/DEERFold/deerfold_processor.py:Model output written to out/PfMATE/PfMATE_A/PfMATE_A_model_1_output_dict.pkl...\n"
     ]
    },
    {
     "name": "stdout",
     "output_type": "stream",
     "text": [
      "out/PfMATE/PfMATE_A_model_4.pdb .......Complete\n"
     ]
    },
    {
     "name": "stderr",
     "output_type": "stream",
     "text": [
      "INFO:/panfs/accrepfs.vampire/data/mchaourab/wut18/release/DEERFold/deerfold_processor.py:Loaded OpenFold parameters at models/updated_DEERFold_helix.pt...\n",
      "INFO:/panfs/accrepfs.vampire/data/mchaourab/wut18/release/DEERFold/deerfold_processor.py:Using precomputed alignments for PfMATE_A at examples/alignments...\n",
      "INFO:/panfs/accrepfs.vampire/data/mchaourab/wut18/release/DEERFold/deerfold_processor.py:Subsampling MSA to Neff=5...\n",
      "INFO:/panfs/accrepfs.vampire/data/mchaourab/wut18/release/DEERFold/deerfold_processor.py:Running inference for PfMATE_A...\n",
      "INFO:/panfs/accrepfs.vampire/data/mchaourab/wut18/release/DEERFold/deerfold_processor.py:Inference time: 45.635038793087006\n",
      "INFO:/panfs/accrepfs.vampire/data/mchaourab/wut18/release/DEERFold/deerfold_processor.py:Output written to out/PfMATE/PfMATE_A/PfMATE_A_model_1_unrelaxed.pdb...\n",
      "INFO:/panfs/accrepfs.vampire/data/mchaourab/wut18/release/DEERFold/deerfold_processor.py:Model output written to out/PfMATE/PfMATE_A/PfMATE_A_model_1_output_dict.pkl...\n"
     ]
    },
    {
     "name": "stdout",
     "output_type": "stream",
     "text": [
      "out/PfMATE/PfMATE_A_model_5.pdb .......Complete\n"
     ]
    },
    {
     "name": "stderr",
     "output_type": "stream",
     "text": [
      "INFO:/panfs/accrepfs.vampire/data/mchaourab/wut18/release/DEERFold/deerfold_processor.py:Loaded OpenFold parameters at models/updated_DEERFold_strand.pt...\n",
      "INFO:/panfs/accrepfs.vampire/data/mchaourab/wut18/release/DEERFold/deerfold_processor.py:Using precomputed alignments for PfMATE_A at examples/alignments...\n",
      "INFO:/panfs/accrepfs.vampire/data/mchaourab/wut18/release/DEERFold/deerfold_processor.py:Subsampling MSA to Neff=5...\n",
      "INFO:/panfs/accrepfs.vampire/data/mchaourab/wut18/release/DEERFold/deerfold_processor.py:Running inference for PfMATE_A...\n",
      "INFO:/panfs/accrepfs.vampire/data/mchaourab/wut18/release/DEERFold/deerfold_processor.py:Inference time: 45.62338666059077\n",
      "INFO:/panfs/accrepfs.vampire/data/mchaourab/wut18/release/DEERFold/deerfold_processor.py:Output written to out/PfMATE/PfMATE_A/PfMATE_A_model_1_unrelaxed.pdb...\n",
      "INFO:/panfs/accrepfs.vampire/data/mchaourab/wut18/release/DEERFold/deerfold_processor.py:Model output written to out/PfMATE/PfMATE_A/PfMATE_A_model_1_output_dict.pkl...\n"
     ]
    },
    {
     "name": "stdout",
     "output_type": "stream",
     "text": [
      "out/PfMATE/PfMATE_A_model_6.pdb .......Complete\n"
     ]
    },
    {
     "name": "stderr",
     "output_type": "stream",
     "text": [
      "INFO:/panfs/accrepfs.vampire/data/mchaourab/wut18/release/DEERFold/deerfold_processor.py:Loaded OpenFold parameters at models/updated_DEERFold_strand.pt...\n",
      "INFO:/panfs/accrepfs.vampire/data/mchaourab/wut18/release/DEERFold/deerfold_processor.py:Using precomputed alignments for PfMATE_A at examples/alignments...\n",
      "INFO:/panfs/accrepfs.vampire/data/mchaourab/wut18/release/DEERFold/deerfold_processor.py:Subsampling MSA to Neff=5...\n",
      "INFO:/panfs/accrepfs.vampire/data/mchaourab/wut18/release/DEERFold/deerfold_processor.py:Running inference for PfMATE_A...\n",
      "INFO:/panfs/accrepfs.vampire/data/mchaourab/wut18/release/DEERFold/deerfold_processor.py:Inference time: 45.62022731266916\n",
      "INFO:/panfs/accrepfs.vampire/data/mchaourab/wut18/release/DEERFold/deerfold_processor.py:Output written to out/PfMATE/PfMATE_A/PfMATE_A_model_1_unrelaxed.pdb...\n",
      "INFO:/panfs/accrepfs.vampire/data/mchaourab/wut18/release/DEERFold/deerfold_processor.py:Model output written to out/PfMATE/PfMATE_A/PfMATE_A_model_1_output_dict.pkl...\n"
     ]
    },
    {
     "name": "stdout",
     "output_type": "stream",
     "text": [
      "out/PfMATE/PfMATE_A_model_7.pdb .......Complete\n"
     ]
    },
    {
     "name": "stderr",
     "output_type": "stream",
     "text": [
      "INFO:/panfs/accrepfs.vampire/data/mchaourab/wut18/release/DEERFold/deerfold_processor.py:Loaded OpenFold parameters at models/updated_DEERFold_strand.pt...\n",
      "INFO:/panfs/accrepfs.vampire/data/mchaourab/wut18/release/DEERFold/deerfold_processor.py:Using precomputed alignments for PfMATE_A at examples/alignments...\n",
      "INFO:/panfs/accrepfs.vampire/data/mchaourab/wut18/release/DEERFold/deerfold_processor.py:Subsampling MSA to Neff=5...\n",
      "INFO:/panfs/accrepfs.vampire/data/mchaourab/wut18/release/DEERFold/deerfold_processor.py:Running inference for PfMATE_A...\n",
      "INFO:/panfs/accrepfs.vampire/data/mchaourab/wut18/release/DEERFold/deerfold_processor.py:Inference time: 45.65071558021009\n",
      "INFO:/panfs/accrepfs.vampire/data/mchaourab/wut18/release/DEERFold/deerfold_processor.py:Output written to out/PfMATE/PfMATE_A/PfMATE_A_model_1_unrelaxed.pdb...\n",
      "INFO:/panfs/accrepfs.vampire/data/mchaourab/wut18/release/DEERFold/deerfold_processor.py:Model output written to out/PfMATE/PfMATE_A/PfMATE_A_model_1_output_dict.pkl...\n"
     ]
    },
    {
     "name": "stdout",
     "output_type": "stream",
     "text": [
      "out/PfMATE/PfMATE_A_model_8.pdb .......Complete\n"
     ]
    },
    {
     "name": "stderr",
     "output_type": "stream",
     "text": [
      "INFO:/panfs/accrepfs.vampire/data/mchaourab/wut18/release/DEERFold/deerfold_processor.py:Loaded OpenFold parameters at models/updated_DEERFold_strand.pt...\n",
      "INFO:/panfs/accrepfs.vampire/data/mchaourab/wut18/release/DEERFold/deerfold_processor.py:Using precomputed alignments for PfMATE_A at examples/alignments...\n",
      "INFO:/panfs/accrepfs.vampire/data/mchaourab/wut18/release/DEERFold/deerfold_processor.py:Subsampling MSA to Neff=5...\n",
      "INFO:/panfs/accrepfs.vampire/data/mchaourab/wut18/release/DEERFold/deerfold_processor.py:Running inference for PfMATE_A...\n",
      "INFO:/panfs/accrepfs.vampire/data/mchaourab/wut18/release/DEERFold/deerfold_processor.py:Inference time: 45.65532575175166\n",
      "INFO:/panfs/accrepfs.vampire/data/mchaourab/wut18/release/DEERFold/deerfold_processor.py:Output written to out/PfMATE/PfMATE_A/PfMATE_A_model_1_unrelaxed.pdb...\n",
      "INFO:/panfs/accrepfs.vampire/data/mchaourab/wut18/release/DEERFold/deerfold_processor.py:Model output written to out/PfMATE/PfMATE_A/PfMATE_A_model_1_output_dict.pkl...\n"
     ]
    },
    {
     "name": "stdout",
     "output_type": "stream",
     "text": [
      "out/PfMATE/PfMATE_A_model_9.pdb .......Complete\n"
     ]
    },
    {
     "name": "stderr",
     "output_type": "stream",
     "text": [
      "INFO:/panfs/accrepfs.vampire/data/mchaourab/wut18/release/DEERFold/deerfold_processor.py:Loaded OpenFold parameters at models/updated_DEERFold_strand.pt...\n",
      "INFO:/panfs/accrepfs.vampire/data/mchaourab/wut18/release/DEERFold/deerfold_processor.py:Using precomputed alignments for PfMATE_A at examples/alignments...\n",
      "INFO:/panfs/accrepfs.vampire/data/mchaourab/wut18/release/DEERFold/deerfold_processor.py:Subsampling MSA to Neff=5...\n",
      "INFO:/panfs/accrepfs.vampire/data/mchaourab/wut18/release/DEERFold/deerfold_processor.py:Running inference for PfMATE_A...\n",
      "INFO:/panfs/accrepfs.vampire/data/mchaourab/wut18/release/DEERFold/deerfold_processor.py:Inference time: 45.66429658420384\n",
      "INFO:/panfs/accrepfs.vampire/data/mchaourab/wut18/release/DEERFold/deerfold_processor.py:Output written to out/PfMATE/PfMATE_A/PfMATE_A_model_1_unrelaxed.pdb...\n",
      "INFO:/panfs/accrepfs.vampire/data/mchaourab/wut18/release/DEERFold/deerfold_processor.py:Model output written to out/PfMATE/PfMATE_A/PfMATE_A_model_1_output_dict.pkl...\n"
     ]
    },
    {
     "name": "stdout",
     "output_type": "stream",
     "text": [
      "out/PfMATE/PfMATE_A_model_10.pdb .......Complete\n"
     ]
    },
    {
     "name": "stderr",
     "output_type": "stream",
     "text": [
      "INFO:/panfs/accrepfs.vampire/data/mchaourab/wut18/release/DEERFold/deerfold_processor.py:Loaded OpenFold parameters at models/updated_DEERFold_com.pt...\n",
      "INFO:/panfs/accrepfs.vampire/data/mchaourab/wut18/release/DEERFold/deerfold_processor.py:Using precomputed alignments for PfMATE_A at examples/alignments...\n",
      "INFO:/panfs/accrepfs.vampire/data/mchaourab/wut18/release/DEERFold/deerfold_processor.py:Subsampling MSA to Neff=5...\n",
      "INFO:/panfs/accrepfs.vampire/data/mchaourab/wut18/release/DEERFold/deerfold_processor.py:Running inference for PfMATE_A...\n",
      "INFO:/panfs/accrepfs.vampire/data/mchaourab/wut18/release/DEERFold/deerfold_processor.py:Inference time: 45.67570114322007\n",
      "INFO:/panfs/accrepfs.vampire/data/mchaourab/wut18/release/DEERFold/deerfold_processor.py:Output written to out/PfMATE/PfMATE_A/PfMATE_A_model_1_unrelaxed.pdb...\n",
      "INFO:/panfs/accrepfs.vampire/data/mchaourab/wut18/release/DEERFold/deerfold_processor.py:Model output written to out/PfMATE/PfMATE_A/PfMATE_A_model_1_output_dict.pkl...\n"
     ]
    },
    {
     "name": "stdout",
     "output_type": "stream",
     "text": [
      "out/PfMATE/PfMATE_A_model_11.pdb .......Complete\n"
     ]
    },
    {
     "name": "stderr",
     "output_type": "stream",
     "text": [
      "INFO:/panfs/accrepfs.vampire/data/mchaourab/wut18/release/DEERFold/deerfold_processor.py:Loaded OpenFold parameters at models/updated_DEERFold_com.pt...\n",
      "INFO:/panfs/accrepfs.vampire/data/mchaourab/wut18/release/DEERFold/deerfold_processor.py:Using precomputed alignments for PfMATE_A at examples/alignments...\n",
      "INFO:/panfs/accrepfs.vampire/data/mchaourab/wut18/release/DEERFold/deerfold_processor.py:Subsampling MSA to Neff=5...\n",
      "INFO:/panfs/accrepfs.vampire/data/mchaourab/wut18/release/DEERFold/deerfold_processor.py:Running inference for PfMATE_A...\n",
      "INFO:/panfs/accrepfs.vampire/data/mchaourab/wut18/release/DEERFold/deerfold_processor.py:Inference time: 45.68882218748331\n",
      "INFO:/panfs/accrepfs.vampire/data/mchaourab/wut18/release/DEERFold/deerfold_processor.py:Output written to out/PfMATE/PfMATE_A/PfMATE_A_model_1_unrelaxed.pdb...\n",
      "INFO:/panfs/accrepfs.vampire/data/mchaourab/wut18/release/DEERFold/deerfold_processor.py:Model output written to out/PfMATE/PfMATE_A/PfMATE_A_model_1_output_dict.pkl...\n"
     ]
    },
    {
     "name": "stdout",
     "output_type": "stream",
     "text": [
      "out/PfMATE/PfMATE_A_model_12.pdb .......Complete\n"
     ]
    },
    {
     "name": "stderr",
     "output_type": "stream",
     "text": [
      "INFO:/panfs/accrepfs.vampire/data/mchaourab/wut18/release/DEERFold/deerfold_processor.py:Loaded OpenFold parameters at models/updated_DEERFold_com.pt...\n",
      "INFO:/panfs/accrepfs.vampire/data/mchaourab/wut18/release/DEERFold/deerfold_processor.py:Using precomputed alignments for PfMATE_A at examples/alignments...\n",
      "INFO:/panfs/accrepfs.vampire/data/mchaourab/wut18/release/DEERFold/deerfold_processor.py:Subsampling MSA to Neff=5...\n",
      "INFO:/panfs/accrepfs.vampire/data/mchaourab/wut18/release/DEERFold/deerfold_processor.py:Running inference for PfMATE_A...\n",
      "INFO:/panfs/accrepfs.vampire/data/mchaourab/wut18/release/DEERFold/deerfold_processor.py:Inference time: 45.65950964950025\n",
      "INFO:/panfs/accrepfs.vampire/data/mchaourab/wut18/release/DEERFold/deerfold_processor.py:Output written to out/PfMATE/PfMATE_A/PfMATE_A_model_1_unrelaxed.pdb...\n",
      "INFO:/panfs/accrepfs.vampire/data/mchaourab/wut18/release/DEERFold/deerfold_processor.py:Model output written to out/PfMATE/PfMATE_A/PfMATE_A_model_1_output_dict.pkl...\n"
     ]
    },
    {
     "name": "stdout",
     "output_type": "stream",
     "text": [
      "out/PfMATE/PfMATE_A_model_13.pdb .......Complete\n"
     ]
    },
    {
     "name": "stderr",
     "output_type": "stream",
     "text": [
      "INFO:/panfs/accrepfs.vampire/data/mchaourab/wut18/release/DEERFold/deerfold_processor.py:Loaded OpenFold parameters at models/updated_DEERFold_com.pt...\n",
      "INFO:/panfs/accrepfs.vampire/data/mchaourab/wut18/release/DEERFold/deerfold_processor.py:Using precomputed alignments for PfMATE_A at examples/alignments...\n",
      "INFO:/panfs/accrepfs.vampire/data/mchaourab/wut18/release/DEERFold/deerfold_processor.py:Subsampling MSA to Neff=5...\n",
      "INFO:/panfs/accrepfs.vampire/data/mchaourab/wut18/release/DEERFold/deerfold_processor.py:Running inference for PfMATE_A...\n",
      "INFO:/panfs/accrepfs.vampire/data/mchaourab/wut18/release/DEERFold/deerfold_processor.py:Inference time: 45.66437051817775\n",
      "INFO:/panfs/accrepfs.vampire/data/mchaourab/wut18/release/DEERFold/deerfold_processor.py:Output written to out/PfMATE/PfMATE_A/PfMATE_A_model_1_unrelaxed.pdb...\n",
      "INFO:/panfs/accrepfs.vampire/data/mchaourab/wut18/release/DEERFold/deerfold_processor.py:Model output written to out/PfMATE/PfMATE_A/PfMATE_A_model_1_output_dict.pkl...\n"
     ]
    },
    {
     "name": "stdout",
     "output_type": "stream",
     "text": [
      "out/PfMATE/PfMATE_A_model_14.pdb .......Complete\n"
     ]
    },
    {
     "name": "stderr",
     "output_type": "stream",
     "text": [
      "INFO:/panfs/accrepfs.vampire/data/mchaourab/wut18/release/DEERFold/deerfold_processor.py:Loaded OpenFold parameters at models/updated_DEERFold_com.pt...\n",
      "INFO:/panfs/accrepfs.vampire/data/mchaourab/wut18/release/DEERFold/deerfold_processor.py:Using precomputed alignments for PfMATE_A at examples/alignments...\n",
      "INFO:/panfs/accrepfs.vampire/data/mchaourab/wut18/release/DEERFold/deerfold_processor.py:Subsampling MSA to Neff=5...\n",
      "INFO:/panfs/accrepfs.vampire/data/mchaourab/wut18/release/DEERFold/deerfold_processor.py:Running inference for PfMATE_A...\n",
      "INFO:/panfs/accrepfs.vampire/data/mchaourab/wut18/release/DEERFold/deerfold_processor.py:Inference time: 45.66722144372761\n",
      "INFO:/panfs/accrepfs.vampire/data/mchaourab/wut18/release/DEERFold/deerfold_processor.py:Output written to out/PfMATE/PfMATE_A/PfMATE_A_model_1_unrelaxed.pdb...\n",
      "INFO:/panfs/accrepfs.vampire/data/mchaourab/wut18/release/DEERFold/deerfold_processor.py:Model output written to out/PfMATE/PfMATE_A/PfMATE_A_model_1_output_dict.pkl...\n"
     ]
    },
    {
     "name": "stdout",
     "output_type": "stream",
     "text": [
      "out/PfMATE/PfMATE_A_model_15.pdb .......Complete\n",
      "Calculating emd scores for PfMATE_A_model_1.pdb....Done\n",
      "Calculating emd scores for PfMATE_A_model_2.pdb....Done\n",
      "Calculating emd scores for PfMATE_A_model_3.pdb....Done\n",
      "Calculating emd scores for PfMATE_A_model_4.pdb....Done\n",
      "Calculating emd scores for PfMATE_A_model_5.pdb....Done\n",
      "Calculating emd scores for PfMATE_A_model_6.pdb....Done\n",
      "Calculating emd scores for PfMATE_A_model_7.pdb....Done\n",
      "Calculating emd scores for PfMATE_A_model_8.pdb....Done\n",
      "Calculating emd scores for PfMATE_A_model_9.pdb....Done\n",
      "Calculating emd scores for PfMATE_A_model_10.pdb....Done\n",
      "Calculating emd scores for PfMATE_A_model_11.pdb....Done\n",
      "Calculating emd scores for PfMATE_A_model_12.pdb....Done\n",
      "Calculating emd scores for PfMATE_A_model_13.pdb....Done\n",
      "Calculating emd scores for PfMATE_A_model_14.pdb....Done\n",
      "Calculating emd scores for PfMATE_A_model_15.pdb....Done\n",
      "\n",
      "\n",
      "Average RMSD between prediction and examples/PfMATE/6gwh.pdb: 3.0539333333333336\n",
      "Best RMSD between prediction(['PfMATE_A_model_15.pdb']) and examples/PfMATE/6gwh.pdb: 1.082\n",
      "{'PfMATE_A_model_1.pdb': 3.658, 'PfMATE_A_model_2.pdb': 3.403, 'PfMATE_A_model_3.pdb': 3.098, 'PfMATE_A_model_4.pdb': 3.392, 'PfMATE_A_model_5.pdb': 3.106, 'PfMATE_A_model_6.pdb': 4.03, 'PfMATE_A_model_7.pdb': 4.103, 'PfMATE_A_model_8.pdb': 4.331, 'PfMATE_A_model_9.pdb': 4.408, 'PfMATE_A_model_10.pdb': 2.838, 'PfMATE_A_model_11.pdb': 2.661, 'PfMATE_A_model_12.pdb': 2.41, 'PfMATE_A_model_13.pdb': 1.31, 'PfMATE_A_model_14.pdb': 1.979, 'PfMATE_A_model_15.pdb': 1.082} \n",
      "\n",
      "Average TMscore between prediction and examples/PfMATE/6gwh.pdb: 0.8720733333333333\n",
      "Best TMscore between prediction(['PfMATE_A_model_15.pdb']) and examples/PfMATE/6gwh.pdb: 0.9803\n",
      "{'PfMATE_A_model_1.pdb': 0.8328, 'PfMATE_A_model_2.pdb': 0.849, 'PfMATE_A_model_3.pdb': 0.8734, 'PfMATE_A_model_4.pdb': 0.853, 'PfMATE_A_model_5.pdb': 0.8732, 'PfMATE_A_model_6.pdb': 0.8053, 'PfMATE_A_model_7.pdb': 0.8012, 'PfMATE_A_model_8.pdb': 0.7871, 'PfMATE_A_model_9.pdb': 0.7797, 'PfMATE_A_model_10.pdb': 0.895, 'PfMATE_A_model_11.pdb': 0.905, 'PfMATE_A_model_12.pdb': 0.9267, 'PfMATE_A_model_13.pdb': 0.9716, 'PfMATE_A_model_14.pdb': 0.9478, 'PfMATE_A_model_15.pdb': 0.9803} \n",
      "\n",
      "Average RMSD between prediction and examples/PfMATE/6fhz.pdb: 2.7614\n",
      "Best RMSD between prediction(['PfMATE_A_model_9.pdb']) and examples/PfMATE/6fhz.pdb: 1.295\n",
      "{'PfMATE_A_model_1.pdb': 1.72, 'PfMATE_A_model_2.pdb': 2.183, 'PfMATE_A_model_3.pdb': 2.289, 'PfMATE_A_model_4.pdb': 2.181, 'PfMATE_A_model_5.pdb': 2.301, 'PfMATE_A_model_6.pdb': 1.74, 'PfMATE_A_model_7.pdb': 1.629, 'PfMATE_A_model_8.pdb': 1.392, 'PfMATE_A_model_9.pdb': 1.295, 'PfMATE_A_model_10.pdb': 3.627, 'PfMATE_A_model_11.pdb': 3.529, 'PfMATE_A_model_12.pdb': 4.29, 'PfMATE_A_model_13.pdb': 4.231, 'PfMATE_A_model_14.pdb': 4.462, 'PfMATE_A_model_15.pdb': 4.552} \n",
      "\n",
      "Average TMscore between prediction and examples/PfMATE/6fhz.pdb: 0.8942066666666666\n",
      "Best TMscore between prediction(['PfMATE_A_model_9.pdb']) and examples/PfMATE/6fhz.pdb: 0.9732\n",
      "{'PfMATE_A_model_1.pdb': 0.9524, 'PfMATE_A_model_2.pdb': 0.9272, 'PfMATE_A_model_3.pdb': 0.9181, 'PfMATE_A_model_4.pdb': 0.9265, 'PfMATE_A_model_5.pdb': 0.9181, 'PfMATE_A_model_6.pdb': 0.9535, 'PfMATE_A_model_7.pdb': 0.9588, 'PfMATE_A_model_8.pdb': 0.9688, 'PfMATE_A_model_9.pdb': 0.9732, 'PfMATE_A_model_10.pdb': 0.8578, 'PfMATE_A_model_11.pdb': 0.8639, 'PfMATE_A_model_12.pdb': 0.816, 'PfMATE_A_model_13.pdb': 0.8033, 'PfMATE_A_model_14.pdb': 0.7959, 'PfMATE_A_model_15.pdb': 0.7796} \n",
      "\n",
      "DEERFold script execution completed.\n",
      "\n",
      "Contents of the output directory:\n",
      "PfMATE_A_model_14.pdb\n",
      "PfMATE_A_model_15.pdb\n",
      "PfMATE_A_model_12.pdb\n",
      "PfMATE_A_model_10.pdb\n",
      "PfMATE_A_model_11.pdb\n",
      "PfMATE_A_model_13.pdb\n",
      "PfMATE_A_model_6.pdb\n",
      "PfMATE_A_model_9.pdb\n",
      "PfMATE_A_model_7.pdb\n",
      "PfMATE_A_model_8.pdb\n",
      "PfMATE_A_model_2.pdb\n",
      "PfMATE_A_model_3.pdb\n",
      "PfMATE_A_model_4.pdb\n",
      "PfMATE_A_model_1.pdb\n",
      "PfMATE_A_model_5.pdb\n"
     ]
    }
   ],
   "source": [
    "import sys\n",
    "import os\n",
    "\n",
    "# Add the parent directory to the Python path\n",
    "notebook_dir = os.path.abspath('./')\n",
    "parent_dir = os.path.dirname(notebook_dir)\n",
    "sys.path.append(parent_dir)\n",
    "os.chdir(parent_dir)\n",
    "print(f\"Current working directory changed to: {parent_dir}\")\n",
    "\n",
    "from deerfold_processor import run_deerfold\n",
    "from deerfold_inference import main\n",
    "\n",
    "# Create a mock argparse.Namespace object to simulate command-line arguments\n",
    "class Args:\n",
    "    def __init__(self, **kwargs):\n",
    "        # Define default values for all expected arguments\n",
    "        defaults = {\n",
    "            \"fasta\": None,\n",
    "            \"splabel\": None,\n",
    "            \"msa_dir\": None,\n",
    "            \"models\": None,\n",
    "            \"neff\": None,\n",
    "            \"ref_pdbs\": None,\n",
    "            \"outdir\": None,\n",
    "            \"num_models\": None,\n",
    "            \"model_device\": \"cuda:0\",\n",
    "            \"features\": None,\n",
    "        }\n",
    "        \n",
    "        # Update defaults with any provided arguments\n",
    "        defaults.update(kwargs)\n",
    "        \n",
    "        # Set each key-value pair as an attribute of the instance\n",
    "        for key, value in defaults.items():\n",
    "            setattr(self, key, value)\n",
    "\n",
    "# Set up the arguments\n",
    "args = Args(\n",
    "    fasta=\"examples/PfMATE/PfMATE_A.fasta\",\n",
    "    splabel=\"examples/PfMATE/experiment.csv\",\n",
    "    msa_dir=\"examples/alignments\",\n",
    "    models='models/updated_DEERFold_helix.pt,models/updated_DEERFold_strand.pt,models/updated_DEERFold_com.pt',\n",
    "    neff=5,\n",
    "    ref_pdbs=\"examples/PfMATE/6gwh.pdb,examples/PfMATE/6fhz.pdb\",\n",
    "    outdir=\"out/PfMATE/constrained\",\n",
    "    num_models=15\n",
    ")\n",
    "\n",
    "# Make sure the output directory exists\n",
    "os.makedirs(args.outdir, exist_ok=True)\n",
    "\n",
    "# Run the main function\n",
    "main(args)\n",
    "\n",
    "# Print a message to confirm the script has finished running\n",
    "print(\"DEERFold script execution completed.\")\n",
    "\n",
    "# If you want to examine the output, you can list the contents of the output directory\n",
    "print(\"\\nContents of the output directory:\")\n",
    "for file in os.listdir(args.outdir):\n",
    "    print(file)"
   ]
  },
  {
   "cell_type": "markdown",
   "metadata": {},
   "source": [
    "<div style=\"display: flex; flex-direction: column; align-items: center;\">\n",
    "  <div style=\"display: flex; justify-content: space-around; width: 100%; margin-bottom: 20px;\">\n",
    "    <div style=\"text-align: center;\">\n",
    "      <img src=\"PfMATE/constrained_model_1.png\" width=\"200\" alt=\"Model1\">\n",
    "      <p style=\"margin-top: 10px;text-align: center;\">Model 1</p>\n",
    "    </div>\n",
    "    <div style=\"text-align: center;\">\n",
    "      <img src=\"PfMATE/constrained_model_2.png\" width=\"200\" alt=\"Model2\">\n",
    "      <p style=\"margin-top: 10px;text-align: center;\">Model 2</p>\n",
    "    </div>\n",
    "    <div style=\"text-align: center;\">\n",
    "      <img src=\"PfMATE/constrained_model_3.png\" width=\"200\" alt=\"Model3\">\n",
    "      <p style=\"margin-top: 10px;text-align: center;\">Model 3</p>\n",
    "    </div>\n",
    "    <div style=\"text-align: center;\">\n",
    "      <img src=\"PfMATE/constrained_model_4.png\" width=\"200\" alt=\"Model4\">\n",
    "      <p style=\"margin-top: 10px;text-align: center;\">Model 4</p>\n",
    "    </div>\n",
    "    <div style=\"text-align: center;\">\n",
    "      <img src=\"PfMATE/constrained_model_5.png\" width=\"200\" alt=\"Model5\">\n",
    "      <p style=\"margin-top: 10px;text-align: center;\">Model 5</p>\n",
    "    </div>\n",
    "  </div>\n",
    "</div>\n",
    "<div style=\"text-align: center; margin-top: 20px;\">\n",
    "<strong>Model 1-5 of Constrained models</strong>\n",
    "</div>"
   ]
  },
  {
   "cell_type": "markdown",
   "metadata": {},
   "source": [
    "### Output\n",
    "\n",
    "DEERFold will generate predicted models in PDB format. These models are ranked by EMD distance between the prediction and the input distance constraints. The top-ranking models should be those most closely fitting the input distance constraints.\n",
    "\n",
    "### Analyzing Results\n",
    "\n",
    "After running the prediction, you can analyze the results by examining the output PDB files in the specified output directory. If you provided reference PDB files, DEERFold will also perform RMSD and TM-score analysis comparing the predictions to these references.\n",
    "\n",
    "To visualize or further analyze the top models, you can use various protein structure visualization tools or additional analysis scripts."
   ]
  },
  {
   "cell_type": "code",
   "execution_count": null,
   "metadata": {},
   "outputs": [],
   "source": []
  }
 ],
 "metadata": {
  "kernelspec": {
   "display_name": "Python (deerfold_venv)",
   "language": "python",
   "name": "deerfold_venv"
  },
  "language_info": {
   "codemirror_mode": {
    "name": "ipython",
    "version": 3
   },
   "file_extension": ".py",
   "mimetype": "text/x-python",
   "name": "python",
   "nbconvert_exporter": "python",
   "pygments_lexer": "ipython3",
   "version": "3.9.15"
  }
 },
 "nbformat": 4,
 "nbformat_minor": 2
}
